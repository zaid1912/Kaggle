{
  "nbformat": 4,
  "nbformat_minor": 0,
  "metadata": {
    "colab": {
      "name": "Linear_Regression_Self_Implementation.ipynb",
      "provenance": [],
      "collapsed_sections": []
    },
    "kernelspec": {
      "name": "python3",
      "display_name": "Python 3"
    },
    "language_info": {
      "name": "python"
    }
  },
  "cells": [
    {
      "cell_type": "markdown",
      "source": [
        "**Linear Regression implementation on self created(randomly generated dataset)**"
      ],
      "metadata": {
        "id": "aWczcoxoShXq"
      }
    },
    {
      "cell_type": "code",
      "execution_count": 1,
      "metadata": {
        "id": "TWV0E3rzMWbA"
      },
      "outputs": [],
      "source": [
        "import numpy as np\n",
        "from statistics import mean\n",
        "def calculate_slope(X_values, y_values):\n",
        "  m = (((mean(X_values)* mean(y_values)) - mean(X_values*y_values))/((mean(X_values))**2 - mean(X_values**2)))\n",
        "  return m"
      ]
    },
    {
      "cell_type": "code",
      "source": [
        "def y_intercept(y_values, X_values):\n",
        "  c = (mean(y_values) - ((calculate_slope(X_values, y_values))*(mean(X_values))))\n",
        "  return c"
      ],
      "metadata": {
        "id": "LAn3kHTAQwTO"
      },
      "execution_count": 2,
      "outputs": []
    },
    {
      "cell_type": "code",
      "source": [
        "def squared_error(original_ys, ys_line):\n",
        "  return sum((ys_line-original_ys)**2)\n",
        "\n",
        "def coefficient_of_determination(original_ys, ys_line):\n",
        "  y_mean_line = [mean(original_ys) for y in original_ys]\n",
        "  squared_error_regression = squared_error(original_ys, ys_line)\n",
        "  squared_error_y_mean = squared_error(original_ys, y_mean_line)\n",
        "  return (1 - (squared_error_regression/squared_error_y_mean))"
      ],
      "metadata": {
        "id": "eClKUSL_Q4Z_"
      },
      "execution_count": 3,
      "outputs": []
    },
    {
      "cell_type": "code",
      "source": [
        ""
      ],
      "metadata": {
        "id": "D8LBh7vkQ5Zq"
      },
      "execution_count": 3,
      "outputs": []
    },
    {
      "cell_type": "code",
      "source": [
        "import random\n",
        "import numpy as np\n",
        "\n",
        "def dataset(num_of_points, variance, step, correlation = False):\n",
        "  y_values = []\n",
        "  val = 1\n",
        "  for i in range(num_of_points):\n",
        "    y = val + random.randrange(-variance, variance)\n",
        "    y_values.append(y)\n",
        "    if(correlation and correlation == 'pos'):\n",
        "      val+=step\n",
        "    elif(correlation and correlation == 'neg'):\n",
        "      val-=step\n",
        "  \n",
        "  X_values = [x for x in range(num_of_points)]\n",
        "  return np.array(X_values, dtype = np.float64), np.array(y_values, dtype = np.float64)\n",
        "\n",
        "X_values, y_values = dataset(40, 30, 2, correlation = 'pos')\n"
      ],
      "metadata": {
        "id": "AdU0HUicvJAy"
      },
      "execution_count": 13,
      "outputs": []
    },
    {
      "cell_type": "code",
      "source": [
        "m = calculate_slope(X_values, y_values)\n",
        "c = y_intercept(y_values, X_values)\n",
        "regression_line = [(m*x) + c for x in X_values]"
      ],
      "metadata": {
        "id": "jOIwOOISRQY2"
      },
      "execution_count": 14,
      "outputs": []
    },
    {
      "cell_type": "code",
      "source": [
        "from matplotlib import style\n",
        "import matplotlib.pyplot as plt\n",
        "\n",
        "#prediction on our on value\n",
        "\n",
        "predict_X = 34\n",
        "predict_y = m*predict_X + c\n",
        "\n",
        "style.use('fivethirtyeight')\n",
        "plt.scatter(X_values, y_values)\n",
        "plt.plot(X_values, regression_line)\n",
        "plt.scatter(predict_X, predict_y, s= 100, color = 'g')\n",
        "plt.show()"
      ],
      "metadata": {
        "colab": {
          "base_uri": "https://localhost:8080/",
          "height": 282
        },
        "id": "V1sRrlQXRXtt",
        "outputId": "69097b5e-4639-46cb-b805-d44c6e348a7f"
      },
      "execution_count": 21,
      "outputs": [
        {
          "output_type": "display_data",
          "data": {
            "text/plain": [
              "<Figure size 432x288 with 1 Axes>"
            ],
            "image/png": "[encoded data removed]"
          },
          "metadata": {}
        }
      ]
    },
    {
      "cell_type": "code",
      "source": [
        "r_squared = coefficient_of_determination(y_values, regression_line)\n",
        "print(r_squared)"
      ],
      "metadata": {
        "colab": {
          "base_uri": "https://localhost:8080/"
        },
        "id": "cWcZeoAiRjyW",
        "outputId": "8d6be405-c4f5-4871-93f4-6f7bc30dcf89"
      },
      "execution_count": 16,
      "outputs": [
        {
          "output_type": "stream",
          "name": "stdout",
          "text": [
            "0.6965873402211055\n"
          ]
        }
      ]
    },
    {
      "cell_type": "code",
      "source": [
        ""
      ],
      "metadata": {
        "id": "UFIT_33wR4v4"
      },
      "execution_count": null,
      "outputs": []
    }
  ]
}