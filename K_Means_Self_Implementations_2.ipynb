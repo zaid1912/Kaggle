{
 "cells": [
  {
   "cell_type": "code",
   "execution_count": 2,
   "metadata": {
    "id": "ifZRTP6gLVSk"
   },
   "outputs": [],
   "source": [
    "import numpy as np\n",
    "import random\n",
    "import matplotlib.pyplot as plt\n",
    "from matplotlib import style\n",
    "style.use('ggplot')"
   ]
  },
  {
   "cell_type": "code",
   "execution_count": 21,
   "metadata": {
    "id": "C-ehYzyvLZlK"
   },
   "outputs": [],
   "source": [
    "class K_means:\n",
    "  def __init__(self, k = 2, tolerance = 0.001, max_iter = 100):\n",
    "    self.k = k\n",
    "    self.tolerance = tolerance\n",
    "    self.max_iter = max_iter\n",
    "    self.centroids = {}\n",
    "\n",
    "  def fit(self, data):\n",
    "    self.data = data\n",
    "    x_min = self.data[:, 0].min()\n",
    "    x_max = self.data[:, 0].max()\n",
    "    y_min = self.data[:, 1].min()\n",
    "    y_max = self.data[:, 1].min()\n",
    "    self.centroids = {}\n",
    "    for i in range(self.k):\n",
    "      self.centroids[i] = [random.uniform(x_min, x_max), random.uniform(y_min, y_max)]\n",
    "\n",
    "    for i in range(self.max_iter):\n",
    "      self.classifications = {}\n",
    "      for i in range(self.k):\n",
    "        self.classifications[i] = []\n",
    "      for training_set in self.data:\n",
    "        distance = [np.linalg.norm(training_set - self.centroids[centroid_index])for centroid_index in self.centroids]\n",
    "        classification = distance.index(min(distance))\n",
    "        self.classifications[classification].append(training_set)\n",
    "\n",
    "      for classification in self.classifications:\n",
    "          self.centroids[classification] = np.average(self.classifications[classification], axis = 0)\n",
    "\n",
    "\n",
    "\n",
    "\n",
    "\n"
   ]
  },
  {
   "cell_type": "code",
   "execution_count": 24,
   "metadata": {
    "colab": {
     "base_uri": "https://localhost:8080/",
     "height": 282
    },
    "id": "574SYXFGLe1Y",
    "outputId": "39edfa7e-4a66-4d2f-ce3f-d6cb9f81705e"
   },
   "outputs": [
    {
     "data": {
      "text/plain": [
       "<matplotlib.collections.PathCollection at 0x7fe2e818a350>"
      ]
     },
     "execution_count": 24,
     "metadata": {},
     "output_type": "execute_result"
    },
    {
     "data": {
      "image/png": "[encoded data removed]",
      "text/plain": [
       "<Figure size 432x288 with 1 Axes>"
      ]
     },
     "metadata": {},
     "output_type": "display_data"
    }
   ],
   "source": [
    "x = np.array([[1, 2],\n",
    "             [0.5, 1],\n",
    "             [1, 1],\n",
    "             [1, 3],\n",
    "             [8,8],\n",
    "             [9, 11],\n",
    "             [6, 7]])\n",
    "model = K_means()\n",
    "model.fit(x)\n",
    "for centroid in model.centroids:\n",
    "  plt.scatter(model.centroids[centroid][0], model.centroids[centroid][1], s = 100, marker = 'x')\n",
    "\n",
    "plt.scatter(x[:,0], x[:, 1], s = 150, color = 'b')\n"
   ]
  },
  {
   "cell_type": "code",
   "execution_count": null,
   "metadata": {
    "id": "s2UfsZ2EIrKk"
   },
   "outputs": [],
   "source": []
  }
 ],
 "metadata": {
  "colab": {
   "name": "K_Means Self Implementations 2.ipynb",
   "provenance": []
  },
  "kernelspec": {
   "display_name": "Python 3 (ipykernel)",
   "language": "python",
   "name": "python3"
  },
  "language_info": {
   "codemirror_mode": {
    "name": "ipython",
    "version": 3
   },
   "file_extension": ".py",
   "mimetype": "text/x-python",
   "name": "python",
   "nbconvert_exporter": "python",
   "pygments_lexer": "ipython3",
   "version": "3.10.7"
  }
 },
 "nbformat": 4,
 "nbformat_minor": 1
}
